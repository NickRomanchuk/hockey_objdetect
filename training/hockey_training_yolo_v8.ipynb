{
 "cells": [
  {
   "cell_type": "markdown",
   "metadata": {},
   "source": [
    "# Install Dependencies"
   ]
  },
  {
   "cell_type": "code",
   "execution_count": 31,
   "metadata": {},
   "outputs": [],
   "source": [
    "#!pip install ultralytics\n",
    "#!pip install roboflow"
   ]
  },
  {
   "cell_type": "markdown",
   "metadata": {},
   "source": [
    "# Import libraries"
   ]
  },
  {
   "cell_type": "code",
   "execution_count": 1,
   "metadata": {},
   "outputs": [],
   "source": [
    "from ultralytics import YOLO\n",
    "from roboflow import Roboflow\n",
    "import shutil\n",
    "import torch\n",
    "import os"
   ]
  },
  {
   "cell_type": "markdown",
   "metadata": {},
   "source": [
    "# Get Dataset\n"
   ]
  },
  {
   "cell_type": "code",
   "execution_count": 33,
   "metadata": {},
   "outputs": [
    {
     "name": "stdout",
     "output_type": "stream",
     "text": [
      "loading Roboflow workspace...\n",
      "loading Roboflow project...\n",
      "Dependency ultralytics==8.0.196 is required but found version=8.2.70, to fix: `pip install ultralytics==8.0.196`\n"
     ]
    },
    {
     "name": "stderr",
     "output_type": "stream",
     "text": [
      "Downloading Dataset Version Zip in hockey-playerdetection-3 to yolov8:: 100%|██████████| 58422/58422 [00:19<00:00, 3015.61it/s]"
     ]
    },
    {
     "name": "stdout",
     "output_type": "stream",
     "text": [
      "\n"
     ]
    },
    {
     "name": "stderr",
     "output_type": "stream",
     "text": [
      "\n",
      "Extracting Dataset Version Zip to hockey-playerdetection-3 in yolov8:: 100%|██████████| 2170/2170 [00:03<00:00, 627.94it/s]\n"
     ]
    }
   ],
   "source": [
    "# Import custom dataset from roboflow\n",
    "rf = Roboflow(api_key=\"1BUdGcTVp8UVzqdnYevS\")\n",
    "project = rf.workspace(\"computervision-jifim\").project(\"hockey-playerdetection\")\n",
    "version = project.version(3)\n",
    "dataset = version.download(\"yolov8\")\n",
    "dataset.location = dataset.location + \"/data.yaml\""
   ]
  },
  {
   "cell_type": "markdown",
   "metadata": {},
   "source": [
    "# Organize Files"
   ]
  },
  {
   "cell_type": "code",
   "execution_count": 34,
   "metadata": {},
   "outputs": [
    {
     "data": {
      "text/plain": [
       "'hockey-playerdetection-3/hockey-playerdetection-3/valid'"
      ]
     },
     "execution_count": 34,
     "metadata": {},
     "output_type": "execute_result"
    }
   ],
   "source": [
    "# Organize folders in the format yolo expects\n",
    "shutil.move('hockey-playerdetection-5/train', 'hockey-playerdetection-5/hockey-playerdetection-5/train')\n",
    "shutil.move('hockey-playerdetection-5/valid', 'hockey-playerdetection-5/hockey-playerdetection-5/valid')"
   ]
  },
  {
   "cell_type": "markdown",
   "metadata": {},
   "source": [
    "# Clear Cache"
   ]
  },
  {
   "cell_type": "code",
   "execution_count": null,
   "metadata": {},
   "outputs": [],
   "source": [
    "torch.cuda.empty_cache()"
   ]
  },
  {
   "cell_type": "markdown",
   "metadata": {},
   "source": [
    "# Optimize Hyperparameters"
   ]
  },
  {
   "cell_type": "code",
   "execution_count": 35,
   "metadata": {},
   "outputs": [],
   "source": [
    "# Check if there is a previous model we can train off\n",
    "build_on_previous_model = os.path.isfile(\"../models/last.pt\")\n",
    "\n",
    "# If there is a previous model, we will leverage transfer learning (start optimizing from pretrained *.pt model)\n",
    "model = YOLO(\"../models/last.pt\" if build_on_previous_model else \"yolov8l.pt\")\n",
    "\n",
    "calc_optimal_hyper_param = False    # do we want to calculate the optimal hyperparameters\n",
    "\n",
    "# If true, tune hyperparameters on dataset\n",
    "if (calc_optimal_hyper_param):\n",
    "    model.tune(data=dataset.location, epochs=30, iterations=300, optimizer=\"AdamW\", plots=False, save=False, val=False)"
   ]
  },
  {
   "cell_type": "markdown",
   "metadata": {},
   "source": [
    "# Train"
   ]
  },
  {
   "cell_type": "code",
   "execution_count": 30,
   "metadata": {},
   "outputs": [
    {
     "name": "stdout",
     "output_type": "stream",
     "text": [
      "False\n"
     ]
    }
   ],
   "source": [
    "# Check if we have optimal hyperparameters\n",
    "has_optimal_hyper_param = os.path.isfile(\"../models/best_hyperparameters.yaml\")\n",
    "\n",
    "if (has_optimal_hyper_param):\n",
    "    results = model.train(data=dataset.location, epochs=100, imgsz=640, cfg=\"../models/best_hyperparameters.yaml\")\n",
    "else:\n",
    "    results = model.train(data=dataset.location, epochs=100, imgsz=640)"
   ]
  }
 ],
 "metadata": {
  "kernelspec": {
   "display_name": "hockey-playertracking",
   "language": "python",
   "name": "python3"
  },
  "language_info": {
   "codemirror_mode": {
    "name": "ipython",
    "version": 3
   },
   "file_extension": ".py",
   "mimetype": "text/x-python",
   "name": "python",
   "nbconvert_exporter": "python",
   "pygments_lexer": "ipython3",
   "version": "3.12.2"
  }
 },
 "nbformat": 4,
 "nbformat_minor": 2
}
